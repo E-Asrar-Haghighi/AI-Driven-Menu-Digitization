{
  "nbformat": 4,
  "nbformat_minor": 0,
  "metadata": {
    "colab": {
      "provenance": []
    },
    "kernelspec": {
      "name": "python3",
      "display_name": "Python 3"
    },
    "language_info": {
      "name": "python"
    }
  },
  "cells": [
    {
      "cell_type": "code",
      "source": [
        "# Save the directory\n",
        "directory =  '/content/drive/MyDrive/GenAI/OpenAI/OpenAI Project'"
      ],
      "metadata": {
        "id": "jva1fI2NCbak"
      },
      "execution_count": 16,
      "outputs": []
    },
    {
      "cell_type": "code",
      "source": [
        "!pip install PyMuPDF Pillow"
      ],
      "metadata": {
        "colab": {
          "base_uri": "https://localhost:8080/"
        },
        "id": "YVZcEFX-cVr5",
        "outputId": "f721cd03-e3f1-464a-cf35-e0828436e446"
      },
      "execution_count": 17,
      "outputs": [
        {
          "output_type": "stream",
          "name": "stdout",
          "text": [
            "Requirement already satisfied: PyMuPDF in /usr/local/lib/python3.11/dist-packages (1.25.3)\n",
            "Requirement already satisfied: Pillow in /usr/local/lib/python3.11/dist-packages (11.1.0)\n"
          ]
        }
      ]
    },
    {
      "cell_type": "code",
      "source": [
        "# import libraries\n",
        "import fitz #PyMuPDF\n",
        "from PIL import Image\n",
        "import os"
      ],
      "metadata": {
        "id": "qJiHvO1zcm0K"
      },
      "execution_count": 18,
      "outputs": []
    },
    {
      "cell_type": "code",
      "source": [
        "def pdf_to_jpg(directory):\n",
        "    # Iterate over all files in the specified directory\n",
        "    for filename in os.listdir(directory):\n",
        "        # Check if the file is a PDF\n",
        "        if filename.endswith('.pdf'):\n",
        "            # Construct the full file path\n",
        "            pdf_path = os.path.join(directory, filename)\n",
        "            # Open the PDF document\n",
        "            pdf_document = fitz.open(pdf_path)\n",
        "            # Iterate over each page in the PDF\n",
        "            for page_number in range(len(pdf_document)):\n",
        "                # Load the page by its index\n",
        "                page = pdf_document.load_page(page_number)\n",
        "                # Render the page to a pixmap (an in-memory image)\n",
        "                pix = page.get_pixmap()\n",
        "\n",
        "                # Construct the output image file path\n",
        "                image_path = os.path.join(\n",
        "                    directory,\n",
        "                    f\"{os.path.splitext(filename)[0]}_page_{page_number + 1}.jpg\"\n",
        "                )\n",
        "                # Create an image object from the pixmap data\n",
        "                img = Image.frombytes(\"RGB\", [pix.width, pix.height], pix.samples)\n",
        "                # Save the image in JPG format\n",
        "                img.save(image_path)\n",
        "\n",
        "    # Print a message when all conversions are done\n",
        "    print(\"All PDF files have been converted\")"
      ],
      "metadata": {
        "id": "OowWNEfAc1R3"
      },
      "execution_count": 19,
      "outputs": []
    },
    {
      "cell_type": "code",
      "source": [
        "pdf_to_jpg(directory)"
      ],
      "metadata": {
        "colab": {
          "base_uri": "https://localhost:8080/"
        },
        "id": "fq65vjj4hCMK",
        "outputId": "c3ea389c-0f50-4cb2-d0ae-15744f5acda3"
      },
      "execution_count": 20,
      "outputs": [
        {
          "output_type": "stream",
          "name": "stdout",
          "text": [
            "All PDF files have been converted\n"
          ]
        }
      ]
    }
  ]
}